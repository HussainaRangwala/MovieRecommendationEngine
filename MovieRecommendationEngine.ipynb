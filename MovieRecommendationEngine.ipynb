{
 "cells": [
  {
   "cell_type": "code",
   "execution_count": 1,
   "id": "05502899",
   "metadata": {},
   "outputs": [],
   "source": [
    "import pyspark\n",
    "import streamlit as st\n",
    "from pyspark.sql import SparkSession\n",
    "from pyspark.ml.recommendation import ALS\n",
    "from pyspark.ml.evaluation import RegressionEvaluator\n",
    "from pyspark.sql.functions import col, explode\n",
    "import pandas as pd"
   ]
  },
  {
   "cell_type": "code",
   "execution_count": 3,
   "id": "593e01db",
   "metadata": {},
   "outputs": [
    {
     "name": "stdout",
     "output_type": "stream",
     "text": [
      "+------+-------+------+---------+\n",
      "|userId|movieId|rating|timestamp|\n",
      "+------+-------+------+---------+\n",
      "|     1|      1|   4.0|964982703|\n",
      "|     1|      3|   4.0|964981247|\n",
      "|     1|      6|   4.0|964982224|\n",
      "|     1|     47|   5.0|964983815|\n",
      "|     1|     50|   5.0|964982931|\n",
      "+------+-------+------+---------+\n",
      "only showing top 5 rows\n",
      "\n",
      "+-------+--------------------+--------------------+\n",
      "|movieId|               title|              genres|\n",
      "+-------+--------------------+--------------------+\n",
      "|      1|    Toy Story (1995)|Adventure|Animati...|\n",
      "|      2|      Jumanji (1995)|Adventure|Childre...|\n",
      "|      3|Grumpier Old Men ...|      Comedy|Romance|\n",
      "|      4|Waiting to Exhale...|Comedy|Drama|Romance|\n",
      "|      5|Father of the Bri...|              Comedy|\n",
      "+-------+--------------------+--------------------+\n",
      "only showing top 5 rows\n",
      "\n"
     ]
    }
   ],
   "source": [
    "# Create a SparkSession\n",
    "spark = SparkSession.builder \\\n",
    "    .appName(\"MovieRecommender\") \\\n",
    "    .config(\"spark.python.worker.reuse\", \"false\") \\\n",
    "    .config(\"spark.executor.memory\", \"8g\") \\\n",
    "    .config(\"spark.driver.memory\", \"8g\") \\\n",
    "    .config(\"spark.network.timeout\", \"800s\") \\\n",
    "    .config(\"spark.executor.heartbeatInterval\", \"60s\") \\\n",
    "    .config(\"spark.executor.cores\", \"4\") \\\n",
    "    .getOrCreate()\n",
    "\n",
    "# Load movie ratings data from a file (replace with your data path)\n",
    "ratings_df = spark.read.csv(\"Data/ratings.csv\", header=True, inferSchema=True)\n",
    "movies_df = spark.read.csv(\"Data/movies.csv\", header=True, inferSchema=True)\n",
    "\n",
    "# Show a sample of the data\n",
    "ratings_df.show(5)\n",
    "movies_df.show(5)"
   ]
  },
  {
   "cell_type": "code",
   "execution_count": 3,
   "id": "568233db",
   "metadata": {},
   "outputs": [
    {
     "name": "stdout",
     "output_type": "stream",
     "text": [
      "Root-mean-square error = 0.887713881109786\n"
     ]
    }
   ],
   "source": [
    "# Create ALS model\n",
    "als = ALS(maxIter=10, regParam=0.1, rank=10, userCol=\"userId\", itemCol=\"movieId\", ratingCol=\"rating\", coldStartStrategy=\"drop\")\n",
    "\n",
    "# Split the data into training and test sets\n",
    "(training, test) = ratings_df.randomSplit([0.8, 0.2])\n",
    "\n",
    "# Train the model\n",
    "model = als.fit(training)\n",
    "\n",
    "# Evaluate the model by computing the RMSE on the test data\n",
    "predictions = model.transform(test)\n",
    "evaluator = RegressionEvaluator(metricName=\"rmse\", labelCol=\"rating\", predictionCol=\"prediction\")\n",
    "rmse = evaluator.evaluate(predictions)\n",
    "print(f\"Root-mean-square error = {rmse}\")\n"
   ]
  },
  {
   "cell_type": "code",
   "execution_count": 4,
   "id": "d77276f9",
   "metadata": {},
   "outputs": [
    {
     "name": "stdout",
     "output_type": "stream",
     "text": [
      "+-------+--------------------+--------------------+\n",
      "|movieId|               title|              genres|\n",
      "+-------+--------------------+--------------------+\n",
      "| 184245|De platte jungle ...|         Documentary|\n",
      "| 179135|Blue Planet II (2...|         Documentary|\n",
      "| 171495|              Cosmos|  (no genres listed)|\n",
      "| 138966|Nasu: Summer in A...|           Animation|\n",
      "| 134796|  Bitter Lake (2015)|         Documentary|\n",
      "|  86237|  Connections (1978)|         Documentary|\n",
      "|  84273|Zeitgeist: Moving...|         Documentary|\n",
      "|  74226|Dream of Light (a...|   Documentary|Drama|\n",
      "|  26928|Summer's Tale, A ...|Comedy|Drama|Romance|\n",
      "|  26073|Human Condition I...|           Drama|War|\n",
      "+-------+--------------------+--------------------+\n",
      "\n"
     ]
    }
   ],
   "source": [
    "# Get top 10 movie recommendations for a specific user\n",
    "user_id = 123\n",
    "user_recommendations = model.recommendForUserSubset(ratings_df.filter(col(\"userId\") == user_id), 10)\n",
    "\n",
    "# Explode the recommendations to get individual movie recommendations\n",
    "exploded_recommendations = user_recommendations.select(explode(\"recommendations\").alias(\"recommendation\"))\n",
    "\n",
    "# Extract recommended movie IDs as a DataFrame\n",
    "recommended_movie_ids_df = exploded_recommendations.select(col(\"recommendation.movieId\").alias(\"movieId\"))\n",
    "\n",
    "# Join with movies_df to get recommended movies\n",
    "recommended_movies = recommended_movie_ids_df.join(movies_df, on=\"movieId\", how=\"inner\")\n",
    "\n",
    "# Show the recommended movies\n",
    "recommended_movies.show()"
   ]
  },
  {
   "cell_type": "code",
   "execution_count": null,
   "id": "20257108",
   "metadata": {},
   "outputs": [],
   "source": [
    "import pyspark\n",
    "import streamlit as st\n",
    "from pyspark.sql import SparkSession\n",
    "from pyspark.ml.recommendation import ALS\n",
    "from pyspark.ml.evaluation import RegressionEvaluator\n",
    "from pyspark.sql.functions import col, explode\n",
    "import pandas as pd\n",
    "\n",
    "# Initialize Spark session\n",
    "def init_spark():\n",
    "    print(\"Initializing Spark Session...\")\n",
    "    return SparkSession.builder \\\n",
    "        .appName(\"MovieRecommender\") \\\n",
    "        .config(\"spark.python.worker.reuse\", \"false\") \\\n",
    "        .config(\"spark.executor.memory\", \"8g\") \\\n",
    "        .config(\"spark.driver.memory\", \"8g\") \\\n",
    "        .config(\"spark.network.timeout\", \"1000s\") \\\n",
    "        .config(\"spark.executor.heartbeatInterval\", \"60s\") \\\n",
    "        .config(\"spark.executor.cores\", \"4\") \\\n",
    "        .getOrCreate()\n",
    "\n",
    "spark = init_spark()\n",
    "\n",
    "# Load data\n",
    "def load_data():\n",
    "    print(\"Loading data...\")\n",
    "    ratings_spark_df = spark.read.csv(\"Data/ratings.csv\", header=True, inferSchema=True)\n",
    "    movies_spark_df = spark.read.csv(\"Data/movies.csv\", header=True, inferSchema=True)\n",
    "    return ratings_spark_df, movies_spark_df\n",
    "\n",
    "ratings_df, movies_df = load_data()\n",
    "\n",
    "# Train model\n",
    "def train_model(_ratings_df):\n",
    "    print(\"Training model...\")\n",
    "    als = ALS(maxIter=10, regParam=0.1, rank=10, userCol=\"userId\", itemCol=\"movieId\", ratingCol=\"rating\", coldStartStrategy=\"drop\")\n",
    "    return als.fit(_ratings_df)\n",
    "\n",
    "model = train_model(ratings_df)\n",
    "\n",
    "# Streamlit UI\n",
    "st.image(\"background_img_2.jpg\")\n",
    "st.title(\"Movie Recommendation Engine\")\n",
    "user_id = st.number_input(\"Enter User ID\", min_value=1, step=1)\n",
    "\n",
    "if st.button(\"Get Recommendations\"):\n",
    "    try:\n",
    "        user_recommendations = model.recommendForUserSubset(ratings_df.filter(col(\"userId\") == user_id), 10)\n",
    "        exploded_recommendations = user_recommendations.select(explode(\"recommendations\").alias(\"recommendation\"))\n",
    "        recommended_movie_ids_df = exploded_recommendations.select(col(\"recommendation.movieId\").alias(\"movieId\"))\n",
    "        recommended_movies = recommended_movie_ids_df.join(movies_df, on=\"movieId\", how=\"inner\")\n",
    "\n",
    "        recommended_movies_list = recommended_movies.limit(10).collect()\n",
    "        recommended_movies_pd_df = pd.DataFrame(recommended_movies_list, columns=[\"movieId\", \"title\", \"genres\"])\n",
    "        st.write(\"Top 10 Movie Recommendations:\")\n",
    "        st.table(recommended_movies_pd_df)\n",
    "\n",
    "        watched_history = ratings_df.filter(col(\"userId\") == user_id)\n",
    "        watched_history_movie_ids_df = watched_history.select(col(\"movieId\"))\n",
    "        watched_movies = watched_history_movie_ids_df.join(movies_df, on=\"movieId\", how=\"inner\")\n",
    "        \n",
    "        watched_movies_list = watched_movies.collect()\n",
    "        watched_movies_pd_df = pd.DataFrame(watched_movies_list, columns=[\"movieId\", \"title\", \"genres\"])\n",
    "        st.write(\"Watched History:\")\n",
    "        st.table(watched_movies_pd_df)\n",
    "    except Exception as e:\n",
    "        st.error(f\"An error occurred: {e}\")\n",
    "\n",
    "# Run Streamlit app\n",
    "# In your terminal, run: streamlit run MovieRecommendationEngine.py\n"
   ]
  }
 ],
 "metadata": {
  "kernelspec": {
   "display_name": "Python 3 (ipykernel)",
   "language": "python",
   "name": "python3"
  },
  "language_info": {
   "codemirror_mode": {
    "name": "ipython",
    "version": 3
   },
   "file_extension": ".py",
   "mimetype": "text/x-python",
   "name": "python",
   "nbconvert_exporter": "python",
   "pygments_lexer": "ipython3",
   "version": "3.9.19"
  }
 },
 "nbformat": 4,
 "nbformat_minor": 5
}
