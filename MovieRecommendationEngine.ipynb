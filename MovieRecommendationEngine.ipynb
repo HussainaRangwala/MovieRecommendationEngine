{
 "cells": [
  {
   "cell_type": "code",
   "execution_count": 4,
   "id": "1201459b",
   "metadata": {},
   "outputs": [],
   "source": [
    "import pyspark\n",
    "import streamlit as st\n",
    "from pyspark.sql import SparkSession\n",
    "from pyspark.ml.recommendation import ALS\n",
    "from pyspark.ml.evaluation import RegressionEvaluator\n",
    "from pyspark.sql.functions import col, explode\n",
    "import pandas as pd"
   ]
  },
  {
   "cell_type": "code",
   "execution_count": 2,
   "id": "593e01db",
   "metadata": {},
   "outputs": [
    {
     "name": "stdout",
     "output_type": "stream",
     "text": [
      "+------+-------+------+---------+\n",
      "|userId|movieId|rating|timestamp|\n",
      "+------+-------+------+---------+\n",
      "|     1|      1|   4.0|964982703|\n",
      "|     1|      3|   4.0|964981247|\n",
      "|     1|      6|   4.0|964982224|\n",
      "|     1|     47|   5.0|964983815|\n",
      "|     1|     50|   5.0|964982931|\n",
      "+------+-------+------+---------+\n",
      "only showing top 5 rows\n",
      "\n",
      "+-------+--------------------+--------------------+\n",
      "|movieId|               title|              genres|\n",
      "+-------+--------------------+--------------------+\n",
      "|      1|    Toy Story (1995)|Adventure|Animati...|\n",
      "|      2|      Jumanji (1995)|Adventure|Childre...|\n",
      "|      3|Grumpier Old Men ...|      Comedy|Romance|\n",
      "|      4|Waiting to Exhale...|Comedy|Drama|Romance|\n",
      "|      5|Father of the Bri...|              Comedy|\n",
      "+-------+--------------------+--------------------+\n",
      "only showing top 5 rows\n",
      "\n"
     ]
    }
   ],
   "source": [
    "# Create a SparkSession\n",
    "spark = SparkSession.builder \\\n",
    "    .appName(\"MovieRecommender\") \\\n",
    "    .config(\"spark.executor.memory\", \"4g\") \\\n",
    "    .config(\"spark.driver.memory\", \"4g\") \\\n",
    "    .config(\"spark.network.timeout\", \"600s\") \\\n",
    "    .config(\"spark.executor.heartbeatInterval\", \"60s\") \\\n",
    "    .getOrCreate()\n",
    "\n",
    "# Load movie ratings data from a file (replace with your data path)\n",
    "ratings_df = spark.read.csv(\"Data/ratings.csv\", header=True, inferSchema=True)\n",
    "movies_df = spark.read.csv(\"Data/movies.csv\", header=True, inferSchema=True)\n",
    "\n",
    "# Show a sample of the data\n",
    "ratings_df.show(5)\n",
    "movies_df.show(5)"
   ]
  },
  {
   "cell_type": "code",
   "execution_count": 2,
   "id": "568233db",
   "metadata": {},
   "outputs": [
    {
     "name": "stdout",
     "output_type": "stream",
     "text": [
      "Root-mean-square error = 0.8829641827190008\n"
     ]
    }
   ],
   "source": [
    "# Create ALS model\n",
    "als = ALS(maxIter=10, regParam=0.1, rank=10, userCol=\"userId\", itemCol=\"movieId\", ratingCol=\"rating\", coldStartStrategy=\"drop\")\n",
    "\n",
    "# Split the data into training and test sets\n",
    "(training, test) = ratings_df.randomSplit([0.8, 0.2])\n",
    "\n",
    "# Train the model\n",
    "model = als.fit(training)\n",
    "\n",
    "# Evaluate the model by computing the RMSE on the test data\n",
    "predictions = model.transform(test)\n",
    "evaluator = RegressionEvaluator(metricName=\"rmse\", labelCol=\"rating\", predictionCol=\"prediction\")\n",
    "rmse = evaluator.evaluate(predictions)\n",
    "print(f\"Root-mean-square error = {rmse}\")\n"
   ]
  },
  {
   "cell_type": "code",
   "execution_count": 20,
   "id": "d77276f9",
   "metadata": {},
   "outputs": [
    {
     "name": "stdout",
     "output_type": "stream",
     "text": [
      "+-------+--------------------+--------------------+\n",
      "|movieId|               title|              genres|\n",
      "+-------+--------------------+--------------------+\n",
      "|  33649|  Saving Face (2004)|Comedy|Drama|Romance|\n",
      "|  25771|Andalusian Dog, A...|             Fantasy|\n",
      "| 179135|Blue Planet II (2...|         Documentary|\n",
      "| 138966|Nasu: Summer in A...|           Animation|\n",
      "| 134796|  Bitter Lake (2015)|         Documentary|\n",
      "| 117531|    Watermark (2014)|         Documentary|\n",
      "|  86237|  Connections (1978)|         Documentary|\n",
      "|  84273|Zeitgeist: Moving...|         Documentary|\n",
      "|  74226|Dream of Light (a...|   Documentary|Drama|\n",
      "|  72171|Black Dynamite (2...|       Action|Comedy|\n",
      "+-------+--------------------+--------------------+\n",
      "\n"
     ]
    }
   ],
   "source": [
    "# Get top 10 movie recommendations for a specific user\n",
    "user_id = 123\n",
    "user_recommendations = model.recommendForUserSubset(ratings_df.filter(col(\"userId\") == user_id), 10)\n",
    "\n",
    "# Explode the recommendations to get individual movie recommendations\n",
    "exploded_recommendations = user_recommendations.select(explode(\"recommendations\").alias(\"recommendation\"))\n",
    "\n",
    "# Extract recommended movie IDs as a DataFrame\n",
    "recommended_movie_ids_df = exploded_recommendations.select(col(\"recommendation.movieId\").alias(\"movieId\"))\n",
    "\n",
    "# Join with movies_df to get recommended movies\n",
    "recommended_movies = recommended_movie_ids_df.join(movies_df, on=\"movieId\", how=\"inner\")\n",
    "\n",
    "# Show the recommended movies\n",
    "recommended_movies.show()"
   ]
  },
  {
   "cell_type": "code",
   "execution_count": 12,
   "id": "c8bfac05",
   "metadata": {},
   "outputs": [
    {
     "name": "stderr",
     "output_type": "stream",
     "text": [
      "2024-07-20 17:47:17.927 \n",
      "  \u001b[33m\u001b[1mWarning:\u001b[0m to view this Streamlit app on a browser, run it with the following\n",
      "  command:\n",
      "\n",
      "    streamlit run C:\\Users\\hussa\\anaconda3\\lib\\site-packages\\ipykernel_launcher.py [ARGUMENTS]\n",
      "2024-07-20 17:47:17.957 Session state does not function when running a script without `streamlit run`\n"
     ]
    }
   ],
   "source": [
    "# Initialize Spark session\n",
    "spark = SparkSession.builder.appName(\"MovieRecommender\").getOrCreate()\n",
    "\n",
    "# Load data\n",
    "ratings_df = spark.read.csv(\"Data/ratings.csv\", header=True, inferSchema=True)\n",
    "movies_df = spark.read.csv(\"Data/movies.csv\", header=True, inferSchema=True)\n",
    "\n",
    "# Train ALS model\n",
    "als = ALS(maxIter=10, regParam=0.1, rank=10, userCol=\"userId\", itemCol=\"movieId\", ratingCol=\"rating\", coldStartStrategy=\"drop\")\n",
    "model = als.fit(ratings_df)\n",
    "\n",
    "# Streamlit GUI\n",
    "st.image(\"background_img.jpg\", caption=\"Movie Recommendation Engine Logo\", use_column_width=True)\n",
    "st.title(\"Movie Recommendation Engine\")\n",
    "user_id = st.number_input(\"Enter User ID\", min_value=1, step=1)\n",
    "\n",
    "if st.button(\"Get Recommendations\"):\n",
    "    user_recommendations = model.recommendForUserSubset(ratings_df.filter(col(\"userId\") == user_id), 10)\n",
    "    watched_history = ratings_df.filter(col(\"userId\") == user_id)\n",
    "    \n",
    "    # Explode the recommendations to get individual movie recommendations\n",
    "    exploded_recommendations = user_recommendations.select(explode(\"recommendations\").alias(\"recommendation\"))\n",
    "    \n",
    "    # Extract recommended movie IDs as a DataFrame\n",
    "    recommended_movie_ids_df = exploded_recommendations.select(col(\"recommendation.movieId\").alias(\"movieId\"))\n",
    "    \n",
    "    # Join with movies_df to get recommended movies\n",
    "    recommended_movies = recommended_movie_ids_df.join(movies_df, on=\"movieId\", how=\"inner\")\n",
    "    \n",
    "    # Collect the top 10 recommended movies\n",
    "    recommended_movies_list = recommended_movies.limit(10).collect()\n",
    "    \n",
    "    # Convert the collected rows to a pandas DataFrame\n",
    "    recommended_movies_pd_df = pd.DataFrame(recommended_movies_list, columns=[\"movieId\", \"title\",\"genres\"])\n",
    "    \n",
    "    # Display the DataFrame as a table in Streamlit\n",
    "    st.write(\"Top 10 Movie Recommendations:\")\n",
    "    st.table(recommended_movies_pd_df)\n",
    "    \n",
    "    #Watched History\n",
    "    watched_history = ratings_df.filter(col(\"userId\") == user_id)\n",
    "    watched_history_movie_ids_df = watched_history.select(col(\"movieId\"))\n",
    "    watched_movies =watched_history_movie_ids_df.join(movies_df, on=\"movieId\", how=\"inner\")\n",
    "    \n",
    "    watched_movies_list=watched_movies.collect()\n",
    "    \n",
    "     # Convert the collected rows to a pandas DataFrame\n",
    "    watched_movies_pd_df = pd.DataFrame(watched_movies_list, columns=[\"movieId\", \"title\",\"genres\"])\n",
    "    \n",
    "    # Display the DataFrame as a table in Streamlit\n",
    "    st.write(\"Watched History:\")\n",
    "    st.table(watched_movies_pd_df)\n",
    "\n",
    "# Run Streamlit app\n",
    "# In your terminal, run: streamlit run MovieRecommendationEngine.py\n"
   ]
  }
 ],
 "metadata": {
  "kernelspec": {
   "display_name": "Python 3 (ipykernel)",
   "language": "python",
   "name": "python3"
  },
  "language_info": {
   "codemirror_mode": {
    "name": "ipython",
    "version": 3
   },
   "file_extension": ".py",
   "mimetype": "text/x-python",
   "name": "python",
   "nbconvert_exporter": "python",
   "pygments_lexer": "ipython3",
   "version": "3.9.13"
  }
 },
 "nbformat": 4,
 "nbformat_minor": 5
}
